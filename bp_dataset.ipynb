{
  "nbformat": 4,
  "nbformat_minor": 0,
  "metadata": {
    "colab": {
      "name": "bp_dataset.ipynb",
      "provenance": [],
      "collapsed_sections": [],
      "authorship_tag": "ABX9TyMUF9bIcwhc8RwpmUARK4Wg",
      "include_colab_link": true
    },
    "kernelspec": {
      "name": "python3",
      "display_name": "Python 3"
    },
    "accelerator": "GPU"
  },
  "cells": [
    {
      "cell_type": "markdown",
      "metadata": {
        "id": "view-in-github",
        "colab_type": "text"
      },
      "source": [
        "<a href=\"https://colab.research.google.com/github/hankaholla/bp_1.semester/blob/main/bp_dataset.ipynb\" target=\"_parent\"><img src=\"https://colab.research.google.com/assets/colab-badge.svg\" alt=\"Open In Colab\"/></a>"
      ]
    },
    {
      "cell_type": "code",
      "metadata": {
        "id": "3jvQs45yH03T",
        "outputId": "f52f3ffc-c553-4358-927a-e72e4beaa875",
        "colab": {
          "base_uri": "https://localhost:8080/"
        }
      },
      "source": [
        "# Load the Drive helper and mount\n",
        "from google.colab import drive\n",
        "\n",
        "# This will prompt for authorization.\n",
        "drive.mount('/content/drive')"
      ],
      "execution_count": 9,
      "outputs": [
        {
          "output_type": "stream",
          "text": [
            "Mounted at /content/drive\n"
          ],
          "name": "stdout"
        }
      ]
    },
    {
      "cell_type": "code",
      "metadata": {
        "id": "EfeaC73DLJj9",
        "outputId": "fa3e96d5-4ecc-4d7b-a291-7c734cb2704d",
        "colab": {
          "base_uri": "https://localhost:8080/"
        }
      },
      "source": [
        "pip freeze --local > /content/gdrive/My\\ Drive/colab_installed.txt"
      ],
      "execution_count": 41,
      "outputs": [
        {
          "output_type": "stream",
          "text": [
            "/bin/bash: /content/gdrive/My Drive/colab_installed.txt: No such file or directory\n"
          ],
          "name": "stdout"
        }
      ]
    },
    {
      "cell_type": "code",
      "metadata": {
        "id": "Kif4Dp4OIoJE",
        "outputId": "3840e876-5065-488e-ec6d-9bce5554041d",
        "colab": {
          "base_uri": "https://localhost:8080/"
        }
      },
      "source": [
        "!ls \"/content/drive/My Drive\""
      ],
      "execution_count": 5,
      "outputs": [
        {
          "output_type": "stream",
          "text": [
            "'5.semester nahravky'\n",
            "'Anna Hollá, Rachmaninov - Elegie'\n",
            " bakalarska_praca\n",
            " cvikoUI_zadanie3.zip\n",
            " geneticALG.jpg\n",
            "'IAU Projekt .gdoc'\n",
            " PSI_Et3_xwagnerd_xvalkovicovak_xmokos_xholla_zapisky\n",
            "'Team 2 - personas.pdf'\n",
            "'Testy a skúšanie.pdf'\n",
            " xholla_ProjektProlog.zip\n",
            " xholla_xvalkovicova_dump_E3.zip\n"
          ],
          "name": "stdout"
        }
      ]
    },
    {
      "cell_type": "code",
      "metadata": {
        "id": "AlB07R6hMc8Q",
        "outputId": "e2a729ed-54b1-41b5-952c-d76ac592b158",
        "colab": {
          "base_uri": "https://localhost:8080/"
        }
      },
      "source": [
        "pip install pydicom"
      ],
      "execution_count": 6,
      "outputs": [
        {
          "output_type": "stream",
          "text": [
            "Collecting pydicom\n",
            "\u001b[?25l  Downloading https://files.pythonhosted.org/packages/9c/02/4e2c135bf2214b7e62714197b4e277a72d4672b1607a54b8922effc451c9/pydicom-2.1.0-py3-none-any.whl (1.9MB)\n",
            "\r\u001b[K     |▏                               | 10kB 23.7MB/s eta 0:00:01\r\u001b[K     |▍                               | 20kB 31.1MB/s eta 0:00:01\r\u001b[K     |▌                               | 30kB 35.9MB/s eta 0:00:01\r\u001b[K     |▊                               | 40kB 30.7MB/s eta 0:00:01\r\u001b[K     |▉                               | 51kB 15.6MB/s eta 0:00:01\r\u001b[K     |█                               | 61kB 13.6MB/s eta 0:00:01\r\u001b[K     |█▏                              | 71kB 12.8MB/s eta 0:00:01\r\u001b[K     |█▍                              | 81kB 12.6MB/s eta 0:00:01\r\u001b[K     |█▋                              | 92kB 12.1MB/s eta 0:00:01\r\u001b[K     |█▊                              | 102kB 12.6MB/s eta 0:00:01\r\u001b[K     |██                              | 112kB 12.6MB/s eta 0:00:01\r\u001b[K     |██                              | 122kB 12.6MB/s eta 0:00:01\r\u001b[K     |██▎                             | 133kB 12.6MB/s eta 0:00:01\r\u001b[K     |██▍                             | 143kB 12.6MB/s eta 0:00:01\r\u001b[K     |██▋                             | 153kB 12.6MB/s eta 0:00:01\r\u001b[K     |██▉                             | 163kB 12.6MB/s eta 0:00:01\r\u001b[K     |███                             | 174kB 12.6MB/s eta 0:00:01\r\u001b[K     |███▏                            | 184kB 12.6MB/s eta 0:00:01\r\u001b[K     |███▎                            | 194kB 12.6MB/s eta 0:00:01\r\u001b[K     |███▌                            | 204kB 12.6MB/s eta 0:00:01\r\u001b[K     |███▋                            | 215kB 12.6MB/s eta 0:00:01\r\u001b[K     |███▉                            | 225kB 12.6MB/s eta 0:00:01\r\u001b[K     |████                            | 235kB 12.6MB/s eta 0:00:01\r\u001b[K     |████▏                           | 245kB 12.6MB/s eta 0:00:01\r\u001b[K     |████▍                           | 256kB 12.6MB/s eta 0:00:01\r\u001b[K     |████▌                           | 266kB 12.6MB/s eta 0:00:01\r\u001b[K     |████▊                           | 276kB 12.6MB/s eta 0:00:01\r\u001b[K     |████▉                           | 286kB 12.6MB/s eta 0:00:01\r\u001b[K     |█████                           | 296kB 12.6MB/s eta 0:00:01\r\u001b[K     |█████▎                          | 307kB 12.6MB/s eta 0:00:01\r\u001b[K     |█████▍                          | 317kB 12.6MB/s eta 0:00:01\r\u001b[K     |█████▋                          | 327kB 12.6MB/s eta 0:00:01\r\u001b[K     |█████▊                          | 337kB 12.6MB/s eta 0:00:01\r\u001b[K     |██████                          | 348kB 12.6MB/s eta 0:00:01\r\u001b[K     |██████                          | 358kB 12.6MB/s eta 0:00:01\r\u001b[K     |██████▎                         | 368kB 12.6MB/s eta 0:00:01\r\u001b[K     |██████▌                         | 378kB 12.6MB/s eta 0:00:01\r\u001b[K     |██████▋                         | 389kB 12.6MB/s eta 0:00:01\r\u001b[K     |██████▉                         | 399kB 12.6MB/s eta 0:00:01\r\u001b[K     |███████                         | 409kB 12.6MB/s eta 0:00:01\r\u001b[K     |███████▏                        | 419kB 12.6MB/s eta 0:00:01\r\u001b[K     |███████▎                        | 430kB 12.6MB/s eta 0:00:01\r\u001b[K     |███████▌                        | 440kB 12.6MB/s eta 0:00:01\r\u001b[K     |███████▊                        | 450kB 12.6MB/s eta 0:00:01\r\u001b[K     |███████▉                        | 460kB 12.6MB/s eta 0:00:01\r\u001b[K     |████████                        | 471kB 12.6MB/s eta 0:00:01\r\u001b[K     |████████▏                       | 481kB 12.6MB/s eta 0:00:01\r\u001b[K     |████████▍                       | 491kB 12.6MB/s eta 0:00:01\r\u001b[K     |████████▌                       | 501kB 12.6MB/s eta 0:00:01\r\u001b[K     |████████▊                       | 512kB 12.6MB/s eta 0:00:01\r\u001b[K     |█████████                       | 522kB 12.6MB/s eta 0:00:01\r\u001b[K     |█████████                       | 532kB 12.6MB/s eta 0:00:01\r\u001b[K     |█████████▎                      | 542kB 12.6MB/s eta 0:00:01\r\u001b[K     |█████████▍                      | 552kB 12.6MB/s eta 0:00:01\r\u001b[K     |█████████▋                      | 563kB 12.6MB/s eta 0:00:01\r\u001b[K     |█████████▊                      | 573kB 12.6MB/s eta 0:00:01\r\u001b[K     |██████████                      | 583kB 12.6MB/s eta 0:00:01\r\u001b[K     |██████████▏                     | 593kB 12.6MB/s eta 0:00:01\r\u001b[K     |██████████▎                     | 604kB 12.6MB/s eta 0:00:01\r\u001b[K     |██████████▌                     | 614kB 12.6MB/s eta 0:00:01\r\u001b[K     |██████████▋                     | 624kB 12.6MB/s eta 0:00:01\r\u001b[K     |██████████▉                     | 634kB 12.6MB/s eta 0:00:01\r\u001b[K     |███████████                     | 645kB 12.6MB/s eta 0:00:01\r\u001b[K     |███████████▏                    | 655kB 12.6MB/s eta 0:00:01\r\u001b[K     |███████████▍                    | 665kB 12.6MB/s eta 0:00:01\r\u001b[K     |███████████▌                    | 675kB 12.6MB/s eta 0:00:01\r\u001b[K     |███████████▊                    | 686kB 12.6MB/s eta 0:00:01\r\u001b[K     |███████████▉                    | 696kB 12.6MB/s eta 0:00:01\r\u001b[K     |████████████                    | 706kB 12.6MB/s eta 0:00:01\r\u001b[K     |████████████▏                   | 716kB 12.6MB/s eta 0:00:01\r\u001b[K     |████████████▍                   | 727kB 12.6MB/s eta 0:00:01\r\u001b[K     |████████████▋                   | 737kB 12.6MB/s eta 0:00:01\r\u001b[K     |████████████▊                   | 747kB 12.6MB/s eta 0:00:01\r\u001b[K     |█████████████                   | 757kB 12.6MB/s eta 0:00:01\r\u001b[K     |█████████████                   | 768kB 12.6MB/s eta 0:00:01\r\u001b[K     |█████████████▎                  | 778kB 12.6MB/s eta 0:00:01\r\u001b[K     |█████████████▍                  | 788kB 12.6MB/s eta 0:00:01\r\u001b[K     |█████████████▋                  | 798kB 12.6MB/s eta 0:00:01\r\u001b[K     |█████████████▉                  | 808kB 12.6MB/s eta 0:00:01\r\u001b[K     |██████████████                  | 819kB 12.6MB/s eta 0:00:01\r\u001b[K     |██████████████▏                 | 829kB 12.6MB/s eta 0:00:01\r\u001b[K     |██████████████▎                 | 839kB 12.6MB/s eta 0:00:01\r\u001b[K     |██████████████▌                 | 849kB 12.6MB/s eta 0:00:01\r\u001b[K     |██████████████▋                 | 860kB 12.6MB/s eta 0:00:01\r\u001b[K     |██████████████▉                 | 870kB 12.6MB/s eta 0:00:01\r\u001b[K     |███████████████                 | 880kB 12.6MB/s eta 0:00:01\r\u001b[K     |███████████████▏                | 890kB 12.6MB/s eta 0:00:01\r\u001b[K     |███████████████▍                | 901kB 12.6MB/s eta 0:00:01\r\u001b[K     |███████████████▌                | 911kB 12.6MB/s eta 0:00:01\r\u001b[K     |███████████████▊                | 921kB 12.6MB/s eta 0:00:01\r\u001b[K     |███████████████▉                | 931kB 12.6MB/s eta 0:00:01\r\u001b[K     |████████████████                | 942kB 12.6MB/s eta 0:00:01\r\u001b[K     |████████████████▎               | 952kB 12.6MB/s eta 0:00:01\r\u001b[K     |████████████████▍               | 962kB 12.6MB/s eta 0:00:01\r\u001b[K     |████████████████▋               | 972kB 12.6MB/s eta 0:00:01\r\u001b[K     |████████████████▊               | 983kB 12.6MB/s eta 0:00:01\r\u001b[K     |█████████████████               | 993kB 12.6MB/s eta 0:00:01\r\u001b[K     |█████████████████               | 1.0MB 12.6MB/s eta 0:00:01\r\u001b[K     |█████████████████▎              | 1.0MB 12.6MB/s eta 0:00:01\r\u001b[K     |█████████████████▌              | 1.0MB 12.6MB/s eta 0:00:01\r\u001b[K     |█████████████████▋              | 1.0MB 12.6MB/s eta 0:00:01\r\u001b[K     |█████████████████▉              | 1.0MB 12.6MB/s eta 0:00:01\r\u001b[K     |██████████████████              | 1.1MB 12.6MB/s eta 0:00:01\r\u001b[K     |██████████████████▏             | 1.1MB 12.6MB/s eta 0:00:01\r\u001b[K     |██████████████████▎             | 1.1MB 12.6MB/s eta 0:00:01\r\u001b[K     |██████████████████▌             | 1.1MB 12.6MB/s eta 0:00:01\r\u001b[K     |██████████████████▊             | 1.1MB 12.6MB/s eta 0:00:01\r\u001b[K     |██████████████████▉             | 1.1MB 12.6MB/s eta 0:00:01\r\u001b[K     |███████████████████             | 1.1MB 12.6MB/s eta 0:00:01\r\u001b[K     |███████████████████▏            | 1.1MB 12.6MB/s eta 0:00:01\r\u001b[K     |███████████████████▍            | 1.1MB 12.6MB/s eta 0:00:01\r\u001b[K     |███████████████████▌            | 1.1MB 12.6MB/s eta 0:00:01\r\u001b[K     |███████████████████▊            | 1.2MB 12.6MB/s eta 0:00:01\r\u001b[K     |████████████████████            | 1.2MB 12.6MB/s eta 0:00:01\r\u001b[K     |████████████████████            | 1.2MB 12.6MB/s eta 0:00:01\r\u001b[K     |████████████████████▎           | 1.2MB 12.6MB/s eta 0:00:01\r\u001b[K     |████████████████████▍           | 1.2MB 12.6MB/s eta 0:00:01\r\u001b[K     |████████████████████▋           | 1.2MB 12.6MB/s eta 0:00:01\r\u001b[K     |████████████████████▊           | 1.2MB 12.6MB/s eta 0:00:01\r\u001b[K     |█████████████████████           | 1.2MB 12.6MB/s eta 0:00:01\r\u001b[K     |█████████████████████▏          | 1.2MB 12.6MB/s eta 0:00:01\r\u001b[K     |█████████████████████▎          | 1.2MB 12.6MB/s eta 0:00:01\r\u001b[K     |█████████████████████▌          | 1.3MB 12.6MB/s eta 0:00:01\r\u001b[K     |█████████████████████▋          | 1.3MB 12.6MB/s eta 0:00:01\r\u001b[K     |█████████████████████▉          | 1.3MB 12.6MB/s eta 0:00:01\r\u001b[K     |██████████████████████          | 1.3MB 12.6MB/s eta 0:00:01\r\u001b[K     |██████████████████████▏         | 1.3MB 12.6MB/s eta 0:00:01\r\u001b[K     |██████████████████████▍         | 1.3MB 12.6MB/s eta 0:00:01\r\u001b[K     |██████████████████████▌         | 1.3MB 12.6MB/s eta 0:00:01\r\u001b[K     |██████████████████████▊         | 1.3MB 12.6MB/s eta 0:00:01\r\u001b[K     |██████████████████████▉         | 1.3MB 12.6MB/s eta 0:00:01\r\u001b[K     |███████████████████████         | 1.4MB 12.6MB/s eta 0:00:01\r\u001b[K     |███████████████████████▏        | 1.4MB 12.6MB/s eta 0:00:01\r\u001b[K     |███████████████████████▍        | 1.4MB 12.6MB/s eta 0:00:01\r\u001b[K     |███████████████████████▋        | 1.4MB 12.6MB/s eta 0:00:01\r\u001b[K     |███████████████████████▊        | 1.4MB 12.6MB/s eta 0:00:01\r\u001b[K     |████████████████████████        | 1.4MB 12.6MB/s eta 0:00:01\r\u001b[K     |████████████████████████        | 1.4MB 12.6MB/s eta 0:00:01\r\u001b[K     |████████████████████████▎       | 1.4MB 12.6MB/s eta 0:00:01\r\u001b[K     |████████████████████████▍       | 1.4MB 12.6MB/s eta 0:00:01\r\u001b[K     |████████████████████████▋       | 1.4MB 12.6MB/s eta 0:00:01\r\u001b[K     |████████████████████████▉       | 1.5MB 12.6MB/s eta 0:00:01\r\u001b[K     |█████████████████████████       | 1.5MB 12.6MB/s eta 0:00:01\r\u001b[K     |█████████████████████████▏      | 1.5MB 12.6MB/s eta 0:00:01\r\u001b[K     |█████████████████████████▎      | 1.5MB 12.6MB/s eta 0:00:01\r\u001b[K     |█████████████████████████▌      | 1.5MB 12.6MB/s eta 0:00:01\r\u001b[K     |█████████████████████████▋      | 1.5MB 12.6MB/s eta 0:00:01\r\u001b[K     |█████████████████████████▉      | 1.5MB 12.6MB/s eta 0:00:01\r\u001b[K     |██████████████████████████      | 1.5MB 12.6MB/s eta 0:00:01\r\u001b[K     |██████████████████████████▏     | 1.5MB 12.6MB/s eta 0:00:01\r\u001b[K     |██████████████████████████▍     | 1.5MB 12.6MB/s eta 0:00:01\r\u001b[K     |██████████████████████████▌     | 1.6MB 12.6MB/s eta 0:00:01\r\u001b[K     |██████████████████████████▊     | 1.6MB 12.6MB/s eta 0:00:01\r\u001b[K     |██████████████████████████▉     | 1.6MB 12.6MB/s eta 0:00:01\r\u001b[K     |███████████████████████████     | 1.6MB 12.6MB/s eta 0:00:01\r\u001b[K     |███████████████████████████▎    | 1.6MB 12.6MB/s eta 0:00:01\r\u001b[K     |███████████████████████████▍    | 1.6MB 12.6MB/s eta 0:00:01\r\u001b[K     |███████████████████████████▋    | 1.6MB 12.6MB/s eta 0:00:01\r\u001b[K     |███████████████████████████▊    | 1.6MB 12.6MB/s eta 0:00:01\r\u001b[K     |████████████████████████████    | 1.6MB 12.6MB/s eta 0:00:01\r\u001b[K     |████████████████████████████    | 1.6MB 12.6MB/s eta 0:00:01\r\u001b[K     |████████████████████████████▎   | 1.7MB 12.6MB/s eta 0:00:01\r\u001b[K     |████████████████████████████▌   | 1.7MB 12.6MB/s eta 0:00:01\r\u001b[K     |████████████████████████████▋   | 1.7MB 12.6MB/s eta 0:00:01\r\u001b[K     |████████████████████████████▉   | 1.7MB 12.6MB/s eta 0:00:01\r\u001b[K     |█████████████████████████████   | 1.7MB 12.6MB/s eta 0:00:01\r\u001b[K     |█████████████████████████████▏  | 1.7MB 12.6MB/s eta 0:00:01\r\u001b[K     |█████████████████████████████▎  | 1.7MB 12.6MB/s eta 0:00:01\r\u001b[K     |█████████████████████████████▌  | 1.7MB 12.6MB/s eta 0:00:01\r\u001b[K     |█████████████████████████████▊  | 1.7MB 12.6MB/s eta 0:00:01\r\u001b[K     |█████████████████████████████▉  | 1.8MB 12.6MB/s eta 0:00:01\r\u001b[K     |██████████████████████████████  | 1.8MB 12.6MB/s eta 0:00:01\r\u001b[K     |██████████████████████████████▏ | 1.8MB 12.6MB/s eta 0:00:01\r\u001b[K     |██████████████████████████████▍ | 1.8MB 12.6MB/s eta 0:00:01\r\u001b[K     |██████████████████████████████▌ | 1.8MB 12.6MB/s eta 0:00:01\r\u001b[K     |██████████████████████████████▊ | 1.8MB 12.6MB/s eta 0:00:01\r\u001b[K     |███████████████████████████████ | 1.8MB 12.6MB/s eta 0:00:01\r\u001b[K     |███████████████████████████████ | 1.8MB 12.6MB/s eta 0:00:01\r\u001b[K     |███████████████████████████████▎| 1.8MB 12.6MB/s eta 0:00:01\r\u001b[K     |███████████████████████████████▍| 1.8MB 12.6MB/s eta 0:00:01\r\u001b[K     |███████████████████████████████▋| 1.9MB 12.6MB/s eta 0:00:01\r\u001b[K     |███████████████████████████████▊| 1.9MB 12.6MB/s eta 0:00:01\r\u001b[K     |████████████████████████████████| 1.9MB 12.6MB/s eta 0:00:01\r\u001b[K     |████████████████████████████████| 1.9MB 12.6MB/s \n",
            "\u001b[?25hInstalling collected packages: pydicom\n",
            "Successfully installed pydicom-2.1.0\n"
          ],
          "name": "stdout"
        }
      ]
    },
    {
      "cell_type": "code",
      "metadata": {
        "id": "1uIFhrgvJCqT"
      },
      "source": [
        "import glob, pylab, pandas as pd\n",
        "import pydicom, numpy as np\n",
        "from os import listdir\n",
        "from os.path import isfile, join\n",
        "import matplotlib.pylab as plt\n",
        "import os\n",
        "import seaborn as sns\n",
        "from tqdm import tqdm "
      ],
      "execution_count": 19,
      "outputs": []
    },
    {
      "cell_type": "code",
      "metadata": {
        "id": "uPkVpJ0QMkRI",
        "outputId": "323ca4de-6772-416a-fe2e-3f7e6baefe6c",
        "colab": {
          "base_uri": "https://localhost:8080/"
        }
      },
      "source": [
        "train_images_dir = '/content/drive/My Drive/bakalarska_praca/dataset/myDataset_train/'\n",
        "train_images = [f for f in listdir(train_images_dir) if isfile(join(train_images_dir, f))]\n",
        "print('Príklad dcm súboru', train_images[0])\n",
        "print('Počet dcm súborov:', len(train_images))"
      ],
      "execution_count": 10,
      "outputs": [
        {
          "output_type": "stream",
          "text": [
            "Príklad dcm súboru ID_0000ca2f6.dcm\n",
            "Počet dcm súborov: 1000\n"
          ],
          "name": "stdout"
        }
      ]
    },
    {
      "cell_type": "code",
      "metadata": {
        "id": "OtKnSc7XXnuo"
      },
      "source": [
        "df_labels = pd.read_csv('/content/drive/My Drive/bakalarska_praca/dataset/stage_2_train.csv', index_col=0)"
      ],
      "execution_count": 11,
      "outputs": []
    },
    {
      "cell_type": "code",
      "metadata": {
        "id": "ccdI12u7ZJEu",
        "outputId": "f2f214db-fedc-420b-db8a-9e2c7c1a571d",
        "colab": {
          "base_uri": "https://localhost:8080/",
          "height": 415
        }
      },
      "source": [
        "df_labels = df_labels.reset_index(drop=False)\n",
        "df_labels"
      ],
      "execution_count": 12,
      "outputs": [
        {
          "output_type": "execute_result",
          "data": {
            "text/html": [
              "<div>\n",
              "<style scoped>\n",
              "    .dataframe tbody tr th:only-of-type {\n",
              "        vertical-align: middle;\n",
              "    }\n",
              "\n",
              "    .dataframe tbody tr th {\n",
              "        vertical-align: top;\n",
              "    }\n",
              "\n",
              "    .dataframe thead th {\n",
              "        text-align: right;\n",
              "    }\n",
              "</style>\n",
              "<table border=\"1\" class=\"dataframe\">\n",
              "  <thead>\n",
              "    <tr style=\"text-align: right;\">\n",
              "      <th></th>\n",
              "      <th>ID</th>\n",
              "      <th>Label</th>\n",
              "    </tr>\n",
              "  </thead>\n",
              "  <tbody>\n",
              "    <tr>\n",
              "      <th>0</th>\n",
              "      <td>ID_12cadc6af_epidural</td>\n",
              "      <td>0</td>\n",
              "    </tr>\n",
              "    <tr>\n",
              "      <th>1</th>\n",
              "      <td>ID_12cadc6af_intraparenchymal</td>\n",
              "      <td>0</td>\n",
              "    </tr>\n",
              "    <tr>\n",
              "      <th>2</th>\n",
              "      <td>ID_12cadc6af_intraventricular</td>\n",
              "      <td>0</td>\n",
              "    </tr>\n",
              "    <tr>\n",
              "      <th>3</th>\n",
              "      <td>ID_12cadc6af_subarachnoid</td>\n",
              "      <td>0</td>\n",
              "    </tr>\n",
              "    <tr>\n",
              "      <th>4</th>\n",
              "      <td>ID_12cadc6af_subdural</td>\n",
              "      <td>0</td>\n",
              "    </tr>\n",
              "    <tr>\n",
              "      <th>...</th>\n",
              "      <td>...</td>\n",
              "      <td>...</td>\n",
              "    </tr>\n",
              "    <tr>\n",
              "      <th>4516837</th>\n",
              "      <td>ID_4a85a3a3f_intraparenchymal</td>\n",
              "      <td>0</td>\n",
              "    </tr>\n",
              "    <tr>\n",
              "      <th>4516838</th>\n",
              "      <td>ID_4a85a3a3f_intraventricular</td>\n",
              "      <td>0</td>\n",
              "    </tr>\n",
              "    <tr>\n",
              "      <th>4516839</th>\n",
              "      <td>ID_4a85a3a3f_subarachnoid</td>\n",
              "      <td>0</td>\n",
              "    </tr>\n",
              "    <tr>\n",
              "      <th>4516840</th>\n",
              "      <td>ID_4a85a3a3f_subdural</td>\n",
              "      <td>0</td>\n",
              "    </tr>\n",
              "    <tr>\n",
              "      <th>4516841</th>\n",
              "      <td>ID_4a85a3a3f_any</td>\n",
              "      <td>0</td>\n",
              "    </tr>\n",
              "  </tbody>\n",
              "</table>\n",
              "<p>4516842 rows × 2 columns</p>\n",
              "</div>"
            ],
            "text/plain": [
              "                                    ID  Label\n",
              "0                ID_12cadc6af_epidural      0\n",
              "1        ID_12cadc6af_intraparenchymal      0\n",
              "2        ID_12cadc6af_intraventricular      0\n",
              "3            ID_12cadc6af_subarachnoid      0\n",
              "4                ID_12cadc6af_subdural      0\n",
              "...                                ...    ...\n",
              "4516837  ID_4a85a3a3f_intraparenchymal      0\n",
              "4516838  ID_4a85a3a3f_intraventricular      0\n",
              "4516839      ID_4a85a3a3f_subarachnoid      0\n",
              "4516840          ID_4a85a3a3f_subdural      0\n",
              "4516841               ID_4a85a3a3f_any      0\n",
              "\n",
              "[4516842 rows x 2 columns]"
            ]
          },
          "metadata": {
            "tags": []
          },
          "execution_count": 12
        }
      ]
    },
    {
      "cell_type": "code",
      "metadata": {
        "id": "_zZQ94k4Rf5i"
      },
      "source": [
        "df = pd.DataFrame() \n",
        "for i in tqdm(range (0, len(train_images))):\n",
        "  imgID = train_images[i].rstrip('.dcm')\n",
        "  df.append(df_labels[df_labels['ID'].astype('str').str.contains(imgID)])\n",
        "df"
      ],
      "execution_count": null,
      "outputs": []
    },
    {
      "cell_type": "code",
      "metadata": {
        "id": "EPexvBWoIyKL"
      },
      "source": [
        "df = pd.read_csv('/content/drive/My Drive/bakalarska_praca/dataset/train_subset.csv', index_col=0)"
      ],
      "execution_count": 22,
      "outputs": []
    },
    {
      "cell_type": "code",
      "metadata": {
        "id": "N5rnA6l_JBef",
        "outputId": "29386b6c-18c8-4b96-b497-d0b2e256b0eb",
        "colab": {
          "base_uri": "https://localhost:8080/",
          "height": 202
        }
      },
      "source": [
        "df.head()"
      ],
      "execution_count": 31,
      "outputs": [
        {
          "output_type": "execute_result",
          "data": {
            "text/html": [
              "<div>\n",
              "<style scoped>\n",
              "    .dataframe tbody tr th:only-of-type {\n",
              "        vertical-align: middle;\n",
              "    }\n",
              "\n",
              "    .dataframe tbody tr th {\n",
              "        vertical-align: top;\n",
              "    }\n",
              "\n",
              "    .dataframe thead th {\n",
              "        text-align: right;\n",
              "    }\n",
              "</style>\n",
              "<table border=\"1\" class=\"dataframe\">\n",
              "  <thead>\n",
              "    <tr style=\"text-align: right;\">\n",
              "      <th></th>\n",
              "      <th>ID</th>\n",
              "      <th>Label</th>\n",
              "    </tr>\n",
              "  </thead>\n",
              "  <tbody>\n",
              "    <tr>\n",
              "      <th>0</th>\n",
              "      <td>ID_12cadc6af_epidural</td>\n",
              "      <td>0</td>\n",
              "    </tr>\n",
              "    <tr>\n",
              "      <th>1</th>\n",
              "      <td>ID_12cadc6af_intraparenchymal</td>\n",
              "      <td>0</td>\n",
              "    </tr>\n",
              "    <tr>\n",
              "      <th>2</th>\n",
              "      <td>ID_12cadc6af_intraventricular</td>\n",
              "      <td>0</td>\n",
              "    </tr>\n",
              "    <tr>\n",
              "      <th>3</th>\n",
              "      <td>ID_12cadc6af_subarachnoid</td>\n",
              "      <td>0</td>\n",
              "    </tr>\n",
              "    <tr>\n",
              "      <th>4</th>\n",
              "      <td>ID_12cadc6af_subdural</td>\n",
              "      <td>0</td>\n",
              "    </tr>\n",
              "  </tbody>\n",
              "</table>\n",
              "</div>"
            ],
            "text/plain": [
              "                              ID  Label\n",
              "0          ID_12cadc6af_epidural      0\n",
              "1  ID_12cadc6af_intraparenchymal      0\n",
              "2  ID_12cadc6af_intraventricular      0\n",
              "3      ID_12cadc6af_subarachnoid      0\n",
              "4          ID_12cadc6af_subdural      0"
            ]
          },
          "metadata": {
            "tags": []
          },
          "execution_count": 31
        }
      ]
    },
    {
      "cell_type": "code",
      "metadata": {
        "id": "r2bwJc7oprdO"
      },
      "source": [
        "# df.to_csv('/content/drive/My Drive/bakalarska_praca/dataset/train_subset.csv', index=False)"
      ],
      "execution_count": 15,
      "outputs": []
    },
    {
      "cell_type": "code",
      "metadata": {
        "id": "Xl_NErgUJrRP"
      },
      "source": [
        "df = df.reset_index(drop=False)"
      ],
      "execution_count": 29,
      "outputs": []
    },
    {
      "cell_type": "code",
      "metadata": {
        "id": "Lk8hweGQZdTO",
        "outputId": "29070fee-d87e-4c76-f251-e0c906b28416",
        "colab": {
          "base_uri": "https://localhost:8080/"
        }
      },
      "source": [
        "df.info()"
      ],
      "execution_count": 30,
      "outputs": [
        {
          "output_type": "stream",
          "text": [
            "<class 'pandas.core.frame.DataFrame'>\n",
            "RangeIndex: 6006 entries, 0 to 6005\n",
            "Data columns (total 2 columns):\n",
            " #   Column  Non-Null Count  Dtype \n",
            "---  ------  --------------  ----- \n",
            " 0   ID      6006 non-null   object\n",
            " 1   Label   6006 non-null   int64 \n",
            "dtypes: int64(1), object(1)\n",
            "memory usage: 94.0+ KB\n"
          ],
          "name": "stdout"
        }
      ]
    },
    {
      "cell_type": "code",
      "metadata": {
        "id": "gSgihS_6E9lP",
        "outputId": "f2418578-13ad-4dc2-c821-70ab1b1f0c2b",
        "colab": {
          "base_uri": "https://localhost:8080/",
          "height": 351
        }
      },
      "source": [
        "sns.countplot(df.Label)"
      ],
      "execution_count": 26,
      "outputs": [
        {
          "output_type": "stream",
          "text": [
            "/usr/local/lib/python3.6/dist-packages/seaborn/_decorators.py:43: FutureWarning: Pass the following variable as a keyword arg: x. From version 0.12, the only valid positional argument will be `data`, and passing other arguments without an explicit keyword will result in an error or misinterpretation.\n",
            "  FutureWarning\n"
          ],
          "name": "stderr"
        },
        {
          "output_type": "execute_result",
          "data": {
            "text/plain": [
              "<matplotlib.axes._subplots.AxesSubplot at 0x7f3e79e0b7b8>"
            ]
          },
          "metadata": {
            "tags": []
          },
          "execution_count": 26
        },
        {
          "output_type": "display_data",
          "data": {
            "image/png": "[encoded data removed]",
            "text/plain": [
              "<Figure size 432x288 with 1 Axes>"
            ]
          },
          "metadata": {
            "tags": [],
            "needs_background": "light"
          }
        }
      ]
    },
    {
      "cell_type": "code",
      "metadata": {
        "id": "eN4j35v4FWWY",
        "outputId": "7dd10c1b-0301-4813-9ead-716d1034b8b5",
        "colab": {
          "base_uri": "https://localhost:8080/"
        }
      },
      "source": [
        "df.Label.value_counts()"
      ],
      "execution_count": 32,
      "outputs": [
        {
          "output_type": "execute_result",
          "data": {
            "text/plain": [
              "0    5629\n",
              "1     377\n",
              "Name: Label, dtype: int64"
            ]
          },
          "metadata": {
            "tags": []
          },
          "execution_count": 32
        }
      ]
    },
    {
      "cell_type": "code",
      "metadata": {
        "id": "1AkFuPdpFuwk",
        "outputId": "941b332e-9931-423d-f296-63ad6dcbd189",
        "colab": {
          "base_uri": "https://localhost:8080/",
          "height": 263
        }
      },
      "source": [
        "df['Subtype'] = df['ID'].str.split(\"_\", n = 3, expand = True)[2]\n",
        "df.groupby('Subtype').sum()"
      ],
      "execution_count": 33,
      "outputs": [
        {
          "output_type": "execute_result",
          "data": {
            "text/html": [
              "<div>\n",
              "<style scoped>\n",
              "    .dataframe tbody tr th:only-of-type {\n",
              "        vertical-align: middle;\n",
              "    }\n",
              "\n",
              "    .dataframe tbody tr th {\n",
              "        vertical-align: top;\n",
              "    }\n",
              "\n",
              "    .dataframe thead th {\n",
              "        text-align: right;\n",
              "    }\n",
              "</style>\n",
              "<table border=\"1\" class=\"dataframe\">\n",
              "  <thead>\n",
              "    <tr style=\"text-align: right;\">\n",
              "      <th></th>\n",
              "      <th>Label</th>\n",
              "    </tr>\n",
              "    <tr>\n",
              "      <th>Subtype</th>\n",
              "      <th></th>\n",
              "    </tr>\n",
              "  </thead>\n",
              "  <tbody>\n",
              "    <tr>\n",
              "      <th>any</th>\n",
              "      <td>160</td>\n",
              "    </tr>\n",
              "    <tr>\n",
              "      <th>epidural</th>\n",
              "      <td>8</td>\n",
              "    </tr>\n",
              "    <tr>\n",
              "      <th>intraparenchymal</th>\n",
              "      <td>54</td>\n",
              "    </tr>\n",
              "    <tr>\n",
              "      <th>intraventricular</th>\n",
              "      <td>43</td>\n",
              "    </tr>\n",
              "    <tr>\n",
              "      <th>subarachnoid</th>\n",
              "      <td>43</td>\n",
              "    </tr>\n",
              "    <tr>\n",
              "      <th>subdural</th>\n",
              "      <td>69</td>\n",
              "    </tr>\n",
              "  </tbody>\n",
              "</table>\n",
              "</div>"
            ],
            "text/plain": [
              "                  Label\n",
              "Subtype                \n",
              "any                 160\n",
              "epidural              8\n",
              "intraparenchymal     54\n",
              "intraventricular     43\n",
              "subarachnoid         43\n",
              "subdural             69"
            ]
          },
          "metadata": {
            "tags": []
          },
          "execution_count": 33
        }
      ]
    },
    {
      "cell_type": "code",
      "metadata": {
        "id": "uCYyULQ6KBvc",
        "outputId": "4c4a4b72-77e4-4c91-b326-a509336a111d",
        "colab": {
          "base_uri": "https://localhost:8080/",
          "height": 415
        }
      },
      "source": [
        "df"
      ],
      "execution_count": 34,
      "outputs": [
        {
          "output_type": "execute_result",
          "data": {
            "text/html": [
              "<div>\n",
              "<style scoped>\n",
              "    .dataframe tbody tr th:only-of-type {\n",
              "        vertical-align: middle;\n",
              "    }\n",
              "\n",
              "    .dataframe tbody tr th {\n",
              "        vertical-align: top;\n",
              "    }\n",
              "\n",
              "    .dataframe thead th {\n",
              "        text-align: right;\n",
              "    }\n",
              "</style>\n",
              "<table border=\"1\" class=\"dataframe\">\n",
              "  <thead>\n",
              "    <tr style=\"text-align: right;\">\n",
              "      <th></th>\n",
              "      <th>ID</th>\n",
              "      <th>Label</th>\n",
              "      <th>Subtype</th>\n",
              "    </tr>\n",
              "  </thead>\n",
              "  <tbody>\n",
              "    <tr>\n",
              "      <th>0</th>\n",
              "      <td>ID_12cadc6af_epidural</td>\n",
              "      <td>0</td>\n",
              "      <td>epidural</td>\n",
              "    </tr>\n",
              "    <tr>\n",
              "      <th>1</th>\n",
              "      <td>ID_12cadc6af_intraparenchymal</td>\n",
              "      <td>0</td>\n",
              "      <td>intraparenchymal</td>\n",
              "    </tr>\n",
              "    <tr>\n",
              "      <th>2</th>\n",
              "      <td>ID_12cadc6af_intraventricular</td>\n",
              "      <td>0</td>\n",
              "      <td>intraventricular</td>\n",
              "    </tr>\n",
              "    <tr>\n",
              "      <th>3</th>\n",
              "      <td>ID_12cadc6af_subarachnoid</td>\n",
              "      <td>0</td>\n",
              "      <td>subarachnoid</td>\n",
              "    </tr>\n",
              "    <tr>\n",
              "      <th>4</th>\n",
              "      <td>ID_12cadc6af_subdural</td>\n",
              "      <td>0</td>\n",
              "      <td>subdural</td>\n",
              "    </tr>\n",
              "    <tr>\n",
              "      <th>...</th>\n",
              "      <td>...</td>\n",
              "      <td>...</td>\n",
              "      <td>...</td>\n",
              "    </tr>\n",
              "    <tr>\n",
              "      <th>6001</th>\n",
              "      <td>ID_00f4e78c2_intraparenchymal</td>\n",
              "      <td>0</td>\n",
              "      <td>intraparenchymal</td>\n",
              "    </tr>\n",
              "    <tr>\n",
              "      <th>6002</th>\n",
              "      <td>ID_00f4e78c2_intraventricular</td>\n",
              "      <td>0</td>\n",
              "      <td>intraventricular</td>\n",
              "    </tr>\n",
              "    <tr>\n",
              "      <th>6003</th>\n",
              "      <td>ID_00f4e78c2_subarachnoid</td>\n",
              "      <td>0</td>\n",
              "      <td>subarachnoid</td>\n",
              "    </tr>\n",
              "    <tr>\n",
              "      <th>6004</th>\n",
              "      <td>ID_00f4e78c2_subdural</td>\n",
              "      <td>0</td>\n",
              "      <td>subdural</td>\n",
              "    </tr>\n",
              "    <tr>\n",
              "      <th>6005</th>\n",
              "      <td>ID_00f4e78c2_any</td>\n",
              "      <td>0</td>\n",
              "      <td>any</td>\n",
              "    </tr>\n",
              "  </tbody>\n",
              "</table>\n",
              "<p>6006 rows × 3 columns</p>\n",
              "</div>"
            ],
            "text/plain": [
              "                                 ID  Label           Subtype\n",
              "0             ID_12cadc6af_epidural      0          epidural\n",
              "1     ID_12cadc6af_intraparenchymal      0  intraparenchymal\n",
              "2     ID_12cadc6af_intraventricular      0  intraventricular\n",
              "3         ID_12cadc6af_subarachnoid      0      subarachnoid\n",
              "4             ID_12cadc6af_subdural      0          subdural\n",
              "...                             ...    ...               ...\n",
              "6001  ID_00f4e78c2_intraparenchymal      0  intraparenchymal\n",
              "6002  ID_00f4e78c2_intraventricular      0  intraventricular\n",
              "6003      ID_00f4e78c2_subarachnoid      0      subarachnoid\n",
              "6004          ID_00f4e78c2_subdural      0          subdural\n",
              "6005               ID_00f4e78c2_any      0               any\n",
              "\n",
              "[6006 rows x 3 columns]"
            ]
          },
          "metadata": {
            "tags": []
          },
          "execution_count": 34
        }
      ]
    },
    {
      "cell_type": "code",
      "metadata": {
        "id": "SuedTxPeKIpD",
        "outputId": "48e272b4-e8d9-46de-881c-3ebbb592a4da",
        "colab": {
          "base_uri": "https://localhost:8080/",
          "height": 297
        }
      },
      "source": [
        "plt.figure(figsize=(10,4)) \n",
        "sns.barplot(y=df.groupby('Subtype').sum().Label, x=df.groupby('Subtype').sum().index, palette=\"deep\")"
      ],
      "execution_count": 111,
      "outputs": [
        {
          "output_type": "execute_result",
          "data": {
            "text/plain": [
              "<matplotlib.axes._subplots.AxesSubplot at 0x7f0bb261dbe0>"
            ]
          },
          "metadata": {
            "tags": []
          },
          "execution_count": 111
        },
        {
          "output_type": "display_data",
          "data": {
            "image/png": "[encoded data removed]",
            "text/plain": [
              "<Figure size 720x288 with 1 Axes>"
            ]
          },
          "metadata": {
            "tags": [],
            "needs_background": "light"
          }
        }
      ]
    },
    {
      "cell_type": "code",
      "metadata": {
        "id": "HeCHYh23Np8K",
        "outputId": "9d37465f-c28d-49dc-8020-71481a75169b",
        "colab": {
          "base_uri": "https://localhost:8080/",
          "height": 287
        }
      },
      "source": [
        "image_path = train_images_dir + train_images[0]\n",
        "ds = pydicom.dcmread(image_path)\n",
        "plt.imshow(ds.pixel_array, cmap = pylab.cm.gist_gray, vmin=0, vmax=255)"
      ],
      "execution_count": 36,
      "outputs": [
        {
          "output_type": "execute_result",
          "data": {
            "text/plain": [
              "<matplotlib.image.AxesImage at 0x7f3e3b37cb70>"
            ]
          },
          "metadata": {
            "tags": []
          },
          "execution_count": 36
        },
        {
          "output_type": "display_data",
          "data": {
            "image/png": "[encoded data removed]",
            "text/plain": [
              "<Figure size 432x288 with 1 Axes>"
            ]
          },
          "metadata": {
            "tags": [],
            "needs_background": "light"
          }
        }
      ]
    },
    {
      "cell_type": "code",
      "metadata": {
        "id": "kmkHJLNsb7oX",
        "outputId": "43652dd5-da46-4414-c31d-7d23685b4a54",
        "colab": {
          "base_uri": "https://localhost:8080/"
        }
      },
      "source": [
        "image = pydicom.read_file(train_images_dir + train_images[1])\n",
        "image"
      ],
      "execution_count": 112,
      "outputs": [
        {
          "output_type": "execute_result",
          "data": {
            "text/plain": [
              "Dataset.file_meta -------------------------------\n",
              "(0002, 0002) Media Storage SOP Class UID         UI: CT Image Storage\n",
              "(0002, 0003) Media Storage SOP Instance UID      UI: 10000000106027\n",
              "(0002, 0010) Transfer Syntax UID                 UI: Implicit VR Little Endian\n",
              "(0002, 0012) Implementation Class UID            UI: 1.2.3.4\n",
              "(0002, 0013) Implementation Version Name         SH: 'RSNA Challenge 2019'\n",
              "-------------------------------------------------\n",
              "(0008, 0018) SOP Instance UID                    UI: ID_0000f1657\n",
              "(0008, 0060) Modality                            CS: 'CT'\n",
              "(0010, 0020) Patient ID                          LO: 'ID_df70c823'\n",
              "(0020, 000d) Study Instance UID                  UI: ID_04ef429610\n",
              "(0020, 000e) Series Instance UID                 UI: ID_245e16180c\n",
              "(0020, 0010) Study ID                            SH: ''\n",
              "(0020, 0032) Image Position (Patient)            DS: [-115, -11, 367]\n",
              "(0020, 0037) Image Orientation (Patient)         DS: [1, 0, 0, 0, 1, 0]\n",
              "(0028, 0002) Samples per Pixel                   US: 1\n",
              "(0028, 0004) Photometric Interpretation          CS: 'MONOCHROME2'\n",
              "(0028, 0010) Rows                                US: 512\n",
              "(0028, 0011) Columns                             US: 512\n",
              "(0028, 0030) Pixel Spacing                       DS: [0.4609375, 0.4609375]\n",
              "(0028, 0100) Bits Allocated                      US: 16\n",
              "(0028, 0101) Bits Stored                         US: 12\n",
              "(0028, 0102) High Bit                            US: 11\n",
              "(0028, 0103) Pixel Representation                US: 0\n",
              "(0028, 1050) Window Center                       DS: [00036, 00036]\n",
              "(0028, 1051) Window Width                        DS: [00080, 00080]\n",
              "(0028, 1052) Rescale Intercept                   DS: \"-1024.0\"\n",
              "(0028, 1053) Rescale Slope                       DS: \"1.0\"\n",
              "(7fe0, 0010) Pixel Data                          OW: Array of 524288 elements"
            ]
          },
          "metadata": {
            "tags": []
          },
          "execution_count": 112
        }
      ]
    },
    {
      "cell_type": "code",
      "metadata": {
        "id": "7eCqt8rM9On8",
        "outputId": "456c6605-1186-4940-c607-355615c0ca63",
        "colab": {
          "base_uri": "https://localhost:8080/",
          "height": 35
        }
      },
      "source": [
        "train_images[0]"
      ],
      "execution_count": 125,
      "outputs": [
        {
          "output_type": "execute_result",
          "data": {
            "application/vnd.google.colaboratory.intrinsic+json": {
              "type": "string"
            },
            "text/plain": [
              "'ID_0000ca2f6.dcm'"
            ]
          },
          "metadata": {
            "tags": []
          },
          "execution_count": 125
        }
      ]
    },
    {
      "cell_type": "code",
      "metadata": {
        "id": "tYVu9Scb-n0x",
        "outputId": "9b2df7a6-af57-4a74-99e1-8f13277a5d89",
        "colab": {
          "base_uri": "https://localhost:8080/"
        }
      },
      "source": [
        "# image[0x10,0x20].value\n",
        "print(image.SOPInstanceUID)\n",
        "print(image.pixel_array)\n",
        "ds.pixel_array.shape\n",
        "x = 0;\n",
        "\n",
        "print(x)"
      ],
      "execution_count": 36,
      "outputs": [
        {
          "output_type": "stream",
          "text": [
            "ID_0000ca2f6\n",
            "[[-2000 -2000 -2000 ... -2000 -2000 -2000]\n",
            " [-2000 -2000 -2000 ... -2000 -2000 -2000]\n",
            " [-2000 -2000 -2000 ... -2000 -2000 -2000]\n",
            " ...\n",
            " [-2000 -2000 -2000 ... -2000 -2000 -2000]\n",
            " [-2000 -2000 -2000 ... -2000 -2000 -2000]\n",
            " [-2000 -2000 -2000 ... -2000 -2000 -2000]]\n",
            "206372\n"
          ],
          "name": "stdout"
        }
      ]
    },
    {
      "cell_type": "code",
      "metadata": {
        "id": "uuL3ZCxaOtI4",
        "outputId": "1ec74437-638e-4aa3-cde9-3059309eba0c",
        "colab": {
          "base_uri": "https://localhost:8080/",
          "height": 234
        }
      },
      "source": [
        "fig=plt.figure(figsize=(15, 10))\n",
        "for i in range(1, 4*1 +1):\n",
        "    ds = pydicom.dcmread(train_images_dir + train_images[i])\n",
        "    fig.add_subplot(1, 4, i)\n",
        "    plt.imshow(ds.pixel_array, cmap=pylab.cm.gist_gray)\n",
        "    fig.add_subplot"
      ],
      "execution_count": 89,
      "outputs": [
        {
          "output_type": "display_data",
          "data": {
            "image/png": "[encoded data removed]",
            "text/plain": [
              "<Figure size 1080x720 with 4 Axes>"
            ]
          },
          "metadata": {
            "tags": [],
            "needs_background": "light"
          }
        }
      ]
    },
    {
      "cell_type": "code",
      "metadata": {
        "id": "EV-DlEi7Qvbj",
        "outputId": "534e55aa-6222-4f0f-8429-bf746957f106",
        "colab": {
          "base_uri": "https://localhost:8080/",
          "height": 678
        }
      },
      "source": [
        "metadata = ['SOPInstanceUID', 'Modality', 'PatientID', 'StudyInstanceUID', 'SeriesInstanceUID', \n",
        "            'StudyID', 'ImagePositionPatient', 'ImageOrientationPatient', 'SamplesPerPixel', \n",
        "            'PhotometricInterpretation', 'Rows', 'Columns', 'BitsAllocated','BitsStored',\n",
        "            'WindowCenter', 'WindowWidth']\n",
        "dictMetadata = {column: [] for column in metadata}\n",
        "\n",
        "\n",
        "for img in tqdm(train_images): \n",
        "    image_path = train_images_dir + img\n",
        "    dcmObj = pydicom.dcmread(image_path)\n",
        "  \n",
        "    for col in metadata: \n",
        "        dictMetadata[col].append(str(getattr(dcmObj, col)))\n",
        "\n",
        "\n",
        "metadata_df = pd.DataFrame(dictMetadata)\n",
        "metadata_df\n"
      ],
      "execution_count": 109,
      "outputs": [
        {
          "output_type": "stream",
          "text": [
            "100%|██████████| 1000/1000 [04:51<00:00,  3.43it/s]\n"
          ],
          "name": "stderr"
        },
        {
          "output_type": "execute_result",
          "data": {
            "text/html": [
              "<div>\n",
              "<style scoped>\n",
              "    .dataframe tbody tr th:only-of-type {\n",
              "        vertical-align: middle;\n",
              "    }\n",
              "\n",
              "    .dataframe tbody tr th {\n",
              "        vertical-align: top;\n",
              "    }\n",
              "\n",
              "    .dataframe thead th {\n",
              "        text-align: right;\n",
              "    }\n",
              "</style>\n",
              "<table border=\"1\" class=\"dataframe\">\n",
              "  <thead>\n",
              "    <tr style=\"text-align: right;\">\n",
              "      <th></th>\n",
              "      <th>SOPInstanceUID</th>\n",
              "      <th>Modality</th>\n",
              "      <th>PatientID</th>\n",
              "      <th>StudyInstanceUID</th>\n",
              "      <th>SeriesInstanceUID</th>\n",
              "      <th>StudyID</th>\n",
              "      <th>ImagePositionPatient</th>\n",
              "      <th>ImageOrientationPatient</th>\n",
              "      <th>SamplesPerPixel</th>\n",
              "      <th>PhotometricInterpretation</th>\n",
              "      <th>Rows</th>\n",
              "      <th>Columns</th>\n",
              "      <th>BitsAllocated</th>\n",
              "      <th>BitsStored</th>\n",
              "      <th>WindowCenter</th>\n",
              "      <th>WindowWidth</th>\n",
              "    </tr>\n",
              "  </thead>\n",
              "  <tbody>\n",
              "    <tr>\n",
              "      <th>0</th>\n",
              "      <td>ID_0000ca2f6</td>\n",
              "      <td>CT</td>\n",
              "      <td>ID_8c5a14af</td>\n",
              "      <td>ID_a84b7a0dcd</td>\n",
              "      <td>ID_d6ba679446</td>\n",
              "      <td></td>\n",
              "      <td>[-125.000, -112.463, 110.602]</td>\n",
              "      <td>[1.000000, 0.000000, 0.000000, 0.000000, 0.920...</td>\n",
              "      <td>1</td>\n",
              "      <td>MONOCHROME2</td>\n",
              "      <td>512</td>\n",
              "      <td>512</td>\n",
              "      <td>16</td>\n",
              "      <td>16</td>\n",
              "      <td>30</td>\n",
              "      <td>80</td>\n",
              "    </tr>\n",
              "    <tr>\n",
              "      <th>1</th>\n",
              "      <td>ID_0000f1657</td>\n",
              "      <td>CT</td>\n",
              "      <td>ID_df70c823</td>\n",
              "      <td>ID_04ef429610</td>\n",
              "      <td>ID_245e16180c</td>\n",
              "      <td></td>\n",
              "      <td>[-115, -11, 367]</td>\n",
              "      <td>[1, 0, 0, 0, 1, 0]</td>\n",
              "      <td>1</td>\n",
              "      <td>MONOCHROME2</td>\n",
              "      <td>512</td>\n",
              "      <td>512</td>\n",
              "      <td>16</td>\n",
              "      <td>12</td>\n",
              "      <td>[00036, 00036]</td>\n",
              "      <td>[00080, 00080]</td>\n",
              "    </tr>\n",
              "    <tr>\n",
              "      <th>2</th>\n",
              "      <td>ID_0000aee4b</td>\n",
              "      <td>CT</td>\n",
              "      <td>ID_ce5f0b6c</td>\n",
              "      <td>ID_9aad90e421</td>\n",
              "      <td>ID_1e59488a44</td>\n",
              "      <td></td>\n",
              "      <td>[-108.5, 14.5, 94]</td>\n",
              "      <td>[1, 0, 0, 0, 1, 0]</td>\n",
              "      <td>1</td>\n",
              "      <td>MONOCHROME2</td>\n",
              "      <td>512</td>\n",
              "      <td>512</td>\n",
              "      <td>16</td>\n",
              "      <td>12</td>\n",
              "      <td>[00036, 00036]</td>\n",
              "      <td>[00080, 00080]</td>\n",
              "    </tr>\n",
              "    <tr>\n",
              "      <th>3</th>\n",
              "      <td>ID_000b53a57</td>\n",
              "      <td>CT</td>\n",
              "      <td>ID_e05ab819</td>\n",
              "      <td>ID_acde2ddc8b</td>\n",
              "      <td>ID_3abce50496</td>\n",
              "      <td></td>\n",
              "      <td>[-118.5, 4.5, 213.699951]</td>\n",
              "      <td>[1, 0, 0, 0, 1, 0]</td>\n",
              "      <td>1</td>\n",
              "      <td>MONOCHROME2</td>\n",
              "      <td>512</td>\n",
              "      <td>512</td>\n",
              "      <td>16</td>\n",
              "      <td>12</td>\n",
              "      <td>[00036, 00036]</td>\n",
              "      <td>[00080, 00080]</td>\n",
              "    </tr>\n",
              "    <tr>\n",
              "      <th>4</th>\n",
              "      <td>ID_000a33979</td>\n",
              "      <td>CT</td>\n",
              "      <td>ID_a19b4867</td>\n",
              "      <td>ID_acdc6ca429</td>\n",
              "      <td>ID_49da787d8b</td>\n",
              "      <td></td>\n",
              "      <td>[-125.000000, -95.697983, 145.482162]</td>\n",
              "      <td>[1.000000, 0.000000, 0.000000, 0.000000, 0.927...</td>\n",
              "      <td>1</td>\n",
              "      <td>MONOCHROME2</td>\n",
              "      <td>512</td>\n",
              "      <td>512</td>\n",
              "      <td>16</td>\n",
              "      <td>16</td>\n",
              "      <td>30</td>\n",
              "      <td>80</td>\n",
              "    </tr>\n",
              "    <tr>\n",
              "      <th>...</th>\n",
              "      <td>...</td>\n",
              "      <td>...</td>\n",
              "      <td>...</td>\n",
              "      <td>...</td>\n",
              "      <td>...</td>\n",
              "      <td>...</td>\n",
              "      <td>...</td>\n",
              "      <td>...</td>\n",
              "      <td>...</td>\n",
              "      <td>...</td>\n",
              "      <td>...</td>\n",
              "      <td>...</td>\n",
              "      <td>...</td>\n",
              "      <td>...</td>\n",
              "      <td>...</td>\n",
              "      <td>...</td>\n",
              "    </tr>\n",
              "    <tr>\n",
              "      <th>995</th>\n",
              "      <td>ID_00f4a6124</td>\n",
              "      <td>CT</td>\n",
              "      <td>ID_2c70e395</td>\n",
              "      <td>ID_c9835bc6be</td>\n",
              "      <td>ID_a5c5fa1e82</td>\n",
              "      <td></td>\n",
              "      <td>[-125, -7, 223.699951]</td>\n",
              "      <td>[1, 0, 0, 0, 1, 0]</td>\n",
              "      <td>1</td>\n",
              "      <td>MONOCHROME2</td>\n",
              "      <td>512</td>\n",
              "      <td>512</td>\n",
              "      <td>16</td>\n",
              "      <td>12</td>\n",
              "      <td>[00036, 00036]</td>\n",
              "      <td>[00080, 00080]</td>\n",
              "    </tr>\n",
              "    <tr>\n",
              "      <th>996</th>\n",
              "      <td>ID_00f5a962f</td>\n",
              "      <td>CT</td>\n",
              "      <td>ID_a0b76f75</td>\n",
              "      <td>ID_1d5c3c2e5b</td>\n",
              "      <td>ID_efde187adf</td>\n",
              "      <td></td>\n",
              "      <td>[-119, 41.8301796, 203.863467]</td>\n",
              "      <td>[1, 0, 0, 0, 0.927183855, -0.374606593]</td>\n",
              "      <td>1</td>\n",
              "      <td>MONOCHROME2</td>\n",
              "      <td>512</td>\n",
              "      <td>512</td>\n",
              "      <td>16</td>\n",
              "      <td>12</td>\n",
              "      <td>[00040, 00040]</td>\n",
              "      <td>[00080, 00080]</td>\n",
              "    </tr>\n",
              "    <tr>\n",
              "      <th>997</th>\n",
              "      <td>ID_00f4b5081</td>\n",
              "      <td>CT</td>\n",
              "      <td>ID_e0c760b0</td>\n",
              "      <td>ID_d2f8df6234</td>\n",
              "      <td>ID_d0c1774458</td>\n",
              "      <td></td>\n",
              "      <td>[-125.000000, -130.397980, 168.709549]</td>\n",
              "      <td>[1.000000, 0.000000, 0.000000, 0.000000, 0.927...</td>\n",
              "      <td>1</td>\n",
              "      <td>MONOCHROME2</td>\n",
              "      <td>512</td>\n",
              "      <td>512</td>\n",
              "      <td>16</td>\n",
              "      <td>16</td>\n",
              "      <td>30</td>\n",
              "      <td>80</td>\n",
              "    </tr>\n",
              "    <tr>\n",
              "      <th>998</th>\n",
              "      <td>ID_00f4db9c4</td>\n",
              "      <td>CT</td>\n",
              "      <td>ID_033c2d91</td>\n",
              "      <td>ID_f127591756</td>\n",
              "      <td>ID_e0a5035599</td>\n",
              "      <td></td>\n",
              "      <td>[-112, -1, 738.699951]</td>\n",
              "      <td>[1, 0, 0, 0, 1, 0]</td>\n",
              "      <td>1</td>\n",
              "      <td>MONOCHROME2</td>\n",
              "      <td>512</td>\n",
              "      <td>512</td>\n",
              "      <td>16</td>\n",
              "      <td>12</td>\n",
              "      <td>[00036, 00036]</td>\n",
              "      <td>[00080, 00080]</td>\n",
              "    </tr>\n",
              "    <tr>\n",
              "      <th>999</th>\n",
              "      <td>ID_00f4e78c2</td>\n",
              "      <td>CT</td>\n",
              "      <td>ID_1161063d</td>\n",
              "      <td>ID_fb2523fdf9</td>\n",
              "      <td>ID_83703bd4ad</td>\n",
              "      <td></td>\n",
              "      <td>[-116.5, -13.5, 1215.80009]</td>\n",
              "      <td>[1, 0, 0, 0, 1, 0]</td>\n",
              "      <td>1</td>\n",
              "      <td>MONOCHROME2</td>\n",
              "      <td>512</td>\n",
              "      <td>512</td>\n",
              "      <td>16</td>\n",
              "      <td>12</td>\n",
              "      <td>[00036, 00036]</td>\n",
              "      <td>[00080, 00080]</td>\n",
              "    </tr>\n",
              "  </tbody>\n",
              "</table>\n",
              "<p>1000 rows × 16 columns</p>\n",
              "</div>"
            ],
            "text/plain": [
              "    SOPInstanceUID Modality  ...    WindowCenter     WindowWidth\n",
              "0     ID_0000ca2f6       CT  ...              30              80\n",
              "1     ID_0000f1657       CT  ...  [00036, 00036]  [00080, 00080]\n",
              "2     ID_0000aee4b       CT  ...  [00036, 00036]  [00080, 00080]\n",
              "3     ID_000b53a57       CT  ...  [00036, 00036]  [00080, 00080]\n",
              "4     ID_000a33979       CT  ...              30              80\n",
              "..             ...      ...  ...             ...             ...\n",
              "995   ID_00f4a6124       CT  ...  [00036, 00036]  [00080, 00080]\n",
              "996   ID_00f5a962f       CT  ...  [00040, 00040]  [00080, 00080]\n",
              "997   ID_00f4b5081       CT  ...              30              80\n",
              "998   ID_00f4db9c4       CT  ...  [00036, 00036]  [00080, 00080]\n",
              "999   ID_00f4e78c2       CT  ...  [00036, 00036]  [00080, 00080]\n",
              "\n",
              "[1000 rows x 16 columns]"
            ]
          },
          "metadata": {
            "tags": []
          },
          "execution_count": 109
        }
      ]
    },
    {
      "cell_type": "code",
      "metadata": {
        "id": "nnuoTYdZZGPS"
      },
      "source": [
        "# metadata_df.to_csv('/content/drive/My Drive/bakalarska_praca/dataset/dcm_metadata.csv', index=False)"
      ],
      "execution_count": 110,
      "outputs": []
    },
    {
      "cell_type": "code",
      "metadata": {
        "id": "usdaHiWzKUz0",
        "outputId": "e8f1d786-a380-40ff-c98f-e3fb865a34a3",
        "colab": {
          "base_uri": "https://localhost:8080/",
          "height": 691
        }
      },
      "source": [
        "metadata_df = pd.read_csv('/content/drive/My Drive/bakalarska_praca/dataset/dcm_metadata.csv', index_col=0)\n",
        "metadata_df"
      ],
      "execution_count": 39,
      "outputs": [
        {
          "output_type": "execute_result",
          "data": {
            "text/html": [
              "<div>\n",
              "<style scoped>\n",
              "    .dataframe tbody tr th:only-of-type {\n",
              "        vertical-align: middle;\n",
              "    }\n",
              "\n",
              "    .dataframe tbody tr th {\n",
              "        vertical-align: top;\n",
              "    }\n",
              "\n",
              "    .dataframe thead th {\n",
              "        text-align: right;\n",
              "    }\n",
              "</style>\n",
              "<table border=\"1\" class=\"dataframe\">\n",
              "  <thead>\n",
              "    <tr style=\"text-align: right;\">\n",
              "      <th></th>\n",
              "      <th>Modality</th>\n",
              "      <th>PatientID</th>\n",
              "      <th>StudyInstanceUID</th>\n",
              "      <th>SeriesInstanceUID</th>\n",
              "      <th>StudyID</th>\n",
              "      <th>ImagePositionPatient</th>\n",
              "      <th>ImageOrientationPatient</th>\n",
              "      <th>SamplesPerPixel</th>\n",
              "      <th>PhotometricInterpretation</th>\n",
              "      <th>Rows</th>\n",
              "      <th>Columns</th>\n",
              "      <th>BitsAllocated</th>\n",
              "      <th>BitsStored</th>\n",
              "      <th>WindowCenter</th>\n",
              "      <th>WindowWidth</th>\n",
              "    </tr>\n",
              "    <tr>\n",
              "      <th>SOPInstanceUID</th>\n",
              "      <th></th>\n",
              "      <th></th>\n",
              "      <th></th>\n",
              "      <th></th>\n",
              "      <th></th>\n",
              "      <th></th>\n",
              "      <th></th>\n",
              "      <th></th>\n",
              "      <th></th>\n",
              "      <th></th>\n",
              "      <th></th>\n",
              "      <th></th>\n",
              "      <th></th>\n",
              "      <th></th>\n",
              "      <th></th>\n",
              "    </tr>\n",
              "  </thead>\n",
              "  <tbody>\n",
              "    <tr>\n",
              "      <th>ID_0000ca2f6</th>\n",
              "      <td>CT</td>\n",
              "      <td>ID_8c5a14af</td>\n",
              "      <td>ID_a84b7a0dcd</td>\n",
              "      <td>ID_d6ba679446</td>\n",
              "      <td>NaN</td>\n",
              "      <td>[-125.000, -112.463, 110.602]</td>\n",
              "      <td>[1.000000, 0.000000, 0.000000, 0.000000, 0.920...</td>\n",
              "      <td>1</td>\n",
              "      <td>MONOCHROME2</td>\n",
              "      <td>512</td>\n",
              "      <td>512</td>\n",
              "      <td>16</td>\n",
              "      <td>16</td>\n",
              "      <td>30</td>\n",
              "      <td>80</td>\n",
              "    </tr>\n",
              "    <tr>\n",
              "      <th>ID_0000f1657</th>\n",
              "      <td>CT</td>\n",
              "      <td>ID_df70c823</td>\n",
              "      <td>ID_04ef429610</td>\n",
              "      <td>ID_245e16180c</td>\n",
              "      <td>NaN</td>\n",
              "      <td>[-115, -11, 367]</td>\n",
              "      <td>[1, 0, 0, 0, 1, 0]</td>\n",
              "      <td>1</td>\n",
              "      <td>MONOCHROME2</td>\n",
              "      <td>512</td>\n",
              "      <td>512</td>\n",
              "      <td>16</td>\n",
              "      <td>12</td>\n",
              "      <td>[00036, 00036]</td>\n",
              "      <td>[00080, 00080]</td>\n",
              "    </tr>\n",
              "    <tr>\n",
              "      <th>ID_0000aee4b</th>\n",
              "      <td>CT</td>\n",
              "      <td>ID_ce5f0b6c</td>\n",
              "      <td>ID_9aad90e421</td>\n",
              "      <td>ID_1e59488a44</td>\n",
              "      <td>NaN</td>\n",
              "      <td>[-108.5, 14.5, 94]</td>\n",
              "      <td>[1, 0, 0, 0, 1, 0]</td>\n",
              "      <td>1</td>\n",
              "      <td>MONOCHROME2</td>\n",
              "      <td>512</td>\n",
              "      <td>512</td>\n",
              "      <td>16</td>\n",
              "      <td>12</td>\n",
              "      <td>[00036, 00036]</td>\n",
              "      <td>[00080, 00080]</td>\n",
              "    </tr>\n",
              "    <tr>\n",
              "      <th>ID_000b53a57</th>\n",
              "      <td>CT</td>\n",
              "      <td>ID_e05ab819</td>\n",
              "      <td>ID_acde2ddc8b</td>\n",
              "      <td>ID_3abce50496</td>\n",
              "      <td>NaN</td>\n",
              "      <td>[-118.5, 4.5, 213.699951]</td>\n",
              "      <td>[1, 0, 0, 0, 1, 0]</td>\n",
              "      <td>1</td>\n",
              "      <td>MONOCHROME2</td>\n",
              "      <td>512</td>\n",
              "      <td>512</td>\n",
              "      <td>16</td>\n",
              "      <td>12</td>\n",
              "      <td>[00036, 00036]</td>\n",
              "      <td>[00080, 00080]</td>\n",
              "    </tr>\n",
              "    <tr>\n",
              "      <th>ID_000a33979</th>\n",
              "      <td>CT</td>\n",
              "      <td>ID_a19b4867</td>\n",
              "      <td>ID_acdc6ca429</td>\n",
              "      <td>ID_49da787d8b</td>\n",
              "      <td>NaN</td>\n",
              "      <td>[-125.000000, -95.697983, 145.482162]</td>\n",
              "      <td>[1.000000, 0.000000, 0.000000, 0.000000, 0.927...</td>\n",
              "      <td>1</td>\n",
              "      <td>MONOCHROME2</td>\n",
              "      <td>512</td>\n",
              "      <td>512</td>\n",
              "      <td>16</td>\n",
              "      <td>16</td>\n",
              "      <td>30</td>\n",
              "      <td>80</td>\n",
              "    </tr>\n",
              "    <tr>\n",
              "      <th>...</th>\n",
              "      <td>...</td>\n",
              "      <td>...</td>\n",
              "      <td>...</td>\n",
              "      <td>...</td>\n",
              "      <td>...</td>\n",
              "      <td>...</td>\n",
              "      <td>...</td>\n",
              "      <td>...</td>\n",
              "      <td>...</td>\n",
              "      <td>...</td>\n",
              "      <td>...</td>\n",
              "      <td>...</td>\n",
              "      <td>...</td>\n",
              "      <td>...</td>\n",
              "      <td>...</td>\n",
              "    </tr>\n",
              "    <tr>\n",
              "      <th>ID_00f4a6124</th>\n",
              "      <td>CT</td>\n",
              "      <td>ID_2c70e395</td>\n",
              "      <td>ID_c9835bc6be</td>\n",
              "      <td>ID_a5c5fa1e82</td>\n",
              "      <td>NaN</td>\n",
              "      <td>[-125, -7, 223.699951]</td>\n",
              "      <td>[1, 0, 0, 0, 1, 0]</td>\n",
              "      <td>1</td>\n",
              "      <td>MONOCHROME2</td>\n",
              "      <td>512</td>\n",
              "      <td>512</td>\n",
              "      <td>16</td>\n",
              "      <td>12</td>\n",
              "      <td>[00036, 00036]</td>\n",
              "      <td>[00080, 00080]</td>\n",
              "    </tr>\n",
              "    <tr>\n",
              "      <th>ID_00f5a962f</th>\n",
              "      <td>CT</td>\n",
              "      <td>ID_a0b76f75</td>\n",
              "      <td>ID_1d5c3c2e5b</td>\n",
              "      <td>ID_efde187adf</td>\n",
              "      <td>NaN</td>\n",
              "      <td>[-119, 41.8301796, 203.863467]</td>\n",
              "      <td>[1, 0, 0, 0, 0.927183855, -0.374606593]</td>\n",
              "      <td>1</td>\n",
              "      <td>MONOCHROME2</td>\n",
              "      <td>512</td>\n",
              "      <td>512</td>\n",
              "      <td>16</td>\n",
              "      <td>12</td>\n",
              "      <td>[00040, 00040]</td>\n",
              "      <td>[00080, 00080]</td>\n",
              "    </tr>\n",
              "    <tr>\n",
              "      <th>ID_00f4b5081</th>\n",
              "      <td>CT</td>\n",
              "      <td>ID_e0c760b0</td>\n",
              "      <td>ID_d2f8df6234</td>\n",
              "      <td>ID_d0c1774458</td>\n",
              "      <td>NaN</td>\n",
              "      <td>[-125.000000, -130.397980, 168.709549]</td>\n",
              "      <td>[1.000000, 0.000000, 0.000000, 0.000000, 0.927...</td>\n",
              "      <td>1</td>\n",
              "      <td>MONOCHROME2</td>\n",
              "      <td>512</td>\n",
              "      <td>512</td>\n",
              "      <td>16</td>\n",
              "      <td>16</td>\n",
              "      <td>30</td>\n",
              "      <td>80</td>\n",
              "    </tr>\n",
              "    <tr>\n",
              "      <th>ID_00f4db9c4</th>\n",
              "      <td>CT</td>\n",
              "      <td>ID_033c2d91</td>\n",
              "      <td>ID_f127591756</td>\n",
              "      <td>ID_e0a5035599</td>\n",
              "      <td>NaN</td>\n",
              "      <td>[-112, -1, 738.699951]</td>\n",
              "      <td>[1, 0, 0, 0, 1, 0]</td>\n",
              "      <td>1</td>\n",
              "      <td>MONOCHROME2</td>\n",
              "      <td>512</td>\n",
              "      <td>512</td>\n",
              "      <td>16</td>\n",
              "      <td>12</td>\n",
              "      <td>[00036, 00036]</td>\n",
              "      <td>[00080, 00080]</td>\n",
              "    </tr>\n",
              "    <tr>\n",
              "      <th>ID_00f4e78c2</th>\n",
              "      <td>CT</td>\n",
              "      <td>ID_1161063d</td>\n",
              "      <td>ID_fb2523fdf9</td>\n",
              "      <td>ID_83703bd4ad</td>\n",
              "      <td>NaN</td>\n",
              "      <td>[-116.5, -13.5, 1215.80009]</td>\n",
              "      <td>[1, 0, 0, 0, 1, 0]</td>\n",
              "      <td>1</td>\n",
              "      <td>MONOCHROME2</td>\n",
              "      <td>512</td>\n",
              "      <td>512</td>\n",
              "      <td>16</td>\n",
              "      <td>12</td>\n",
              "      <td>[00036, 00036]</td>\n",
              "      <td>[00080, 00080]</td>\n",
              "    </tr>\n",
              "  </tbody>\n",
              "</table>\n",
              "<p>1000 rows × 15 columns</p>\n",
              "</div>"
            ],
            "text/plain": [
              "               Modality    PatientID  ...    WindowCenter     WindowWidth\n",
              "SOPInstanceUID                        ...                                \n",
              "ID_0000ca2f6         CT  ID_8c5a14af  ...              30              80\n",
              "ID_0000f1657         CT  ID_df70c823  ...  [00036, 00036]  [00080, 00080]\n",
              "ID_0000aee4b         CT  ID_ce5f0b6c  ...  [00036, 00036]  [00080, 00080]\n",
              "ID_000b53a57         CT  ID_e05ab819  ...  [00036, 00036]  [00080, 00080]\n",
              "ID_000a33979         CT  ID_a19b4867  ...              30              80\n",
              "...                 ...          ...  ...             ...             ...\n",
              "ID_00f4a6124         CT  ID_2c70e395  ...  [00036, 00036]  [00080, 00080]\n",
              "ID_00f5a962f         CT  ID_a0b76f75  ...  [00040, 00040]  [00080, 00080]\n",
              "ID_00f4b5081         CT  ID_e0c760b0  ...              30              80\n",
              "ID_00f4db9c4         CT  ID_033c2d91  ...  [00036, 00036]  [00080, 00080]\n",
              "ID_00f4e78c2         CT  ID_1161063d  ...  [00036, 00036]  [00080, 00080]\n",
              "\n",
              "[1000 rows x 15 columns]"
            ]
          },
          "metadata": {
            "tags": []
          },
          "execution_count": 39
        }
      ]
    }
  ]
}